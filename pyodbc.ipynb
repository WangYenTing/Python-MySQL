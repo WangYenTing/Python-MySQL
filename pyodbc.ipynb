{
 "cells": [
  {
   "cell_type": "code",
   "execution_count": 85,
   "metadata": {},
   "outputs": [],
   "source": [
    "import matplotlib.pyplot as plt\n",
    "import numpy as np\n",
    "import pandas as pd\n",
    "import time\n",
    "plt.style.use('seaborn')\n",
    "plt.rcParams['axes.unicode_minus'] = False\n",
    "plt.rcParams['font.family'] = 'SimHei'\n",
    "%matplotlib inline \n",
    "\n",
    "plt.rcParams['xtick.direction'] = 'inout'  # x軸刻度 位置\n",
    "plt.rcParams['xtick.major.size'] = 3.5 # x軸刻度 長度"
   ]
  },
  {
   "cell_type": "code",
   "execution_count": 91,
   "metadata": {},
   "outputs": [],
   "source": [
    "### 資料內容    　　　  chat: 縣市、區、速限(非道路)  　　　其他都是數字\n",
    "#臺中市政府警察局106年11月份交通事故資料\n",
    "url_10611 = 'https://quality.data.gov.tw/dq_download_csv.php?nid=72293&md5_url=27099e7b514bec2a041fd8d0194fbd69'\n",
    "\n",
    "#臺中市政府警察局106年10月份交通事故資料\n",
    "url_10610 = 'https://quality.data.gov.tw/dq_download_csv.php?nid=59792&md5_url=351eb4516b664646e487f4b7ff5d6671'"
   ]
  },
  {
   "cell_type": "code",
   "execution_count": 3,
   "metadata": {},
   "outputs": [],
   "source": [
    "# 使用pandas讀取網路連結檔案\n",
    "df_10611 = pd.read_csv(url_10611)\n",
    "df_10610 = pd.read_csv(url_10610)\n",
    "\n",
    "# 使用pandas 存檔\n",
    "#df_10611.to_csv('交通事故10611.csv')\n",
    "#df_10610.to_csv('交通事故10610.csv')"
   ]
  },
  {
   "cell_type": "code",
   "execution_count": null,
   "metadata": {},
   "outputs": [],
   "source": [
    "## from datafram to sql : let nan to NULL into sql\n",
    "## df = df.fillna(value='NULL')\n",
    "\n",
    "## 'NULL' to nan\n",
    "## df = df.replace('NULL', np.nan)"
   ]
  },
  {
   "cell_type": "markdown",
   "metadata": {},
   "source": [
    "# def"
   ]
  },
  {
   "cell_type": "code",
   "execution_count": 4,
   "metadata": {},
   "outputs": [],
   "source": [
    "## sql query for create table, df:dataframe, tablename:you want set tablename should be str\n",
    "def create_table(df, tablename):\n",
    "    q_create = 'create table ' + tablename + '('\n",
    "    for i, j in zip(df.columns, df.dtypes):\n",
    "        if j.name.find(\"int\")==0:\n",
    "            q_create = (q_create + '\\n{} int NULL, ').format(i)\n",
    "        elif j.name.find(\"float\")==0:\n",
    "            q_create = (q_create + '\\n{} float NULL, ').format(i)\n",
    "        else:\n",
    "            q_create = (q_create + '\\n{} varchar(20) NULL, ').format(i)\n",
    "            \n",
    "    q_create = q_create[:-2] + ');'   ##去掉最後的 逗點\n",
    "    return(q_create)"
   ]
  },
  {
   "cell_type": "code",
   "execution_count": 40,
   "metadata": {},
   "outputs": [],
   "source": [
    "## executemany版 sql語法###  insert into tablename values(?,)  ##########\n",
    "## cursor.executemany(sql, df.values.tolist())\n",
    "def sql_insert(df, tablename):\n",
    "    sql_head = \"insert into \" + tablename + \" values(\"\n",
    "    sql_values = df.shape[1] * \"%s, \"\n",
    "    sql_insert = sql_head + sql_values[:-2] + \")\"\n",
    "    return (str(sql_insert))"
   ]
  },
  {
   "cell_type": "markdown",
   "metadata": {},
   "source": [
    "## 連接資料庫"
   ]
  },
  {
   "cell_type": "code",
   "execution_count": 6,
   "metadata": {},
   "outputs": [],
   "source": [
    "# 資料庫連接  CHARSET=UTF8;\n",
    "import pyodbc\n",
    "cn = pyodbc.connect(\"DRIVER={MySQL ODBC 8.0 Unicode Driver}; SERVER=localhost; PORT=3306;DATABASE=taichung; UID=root; PASSWORD=******;OPTION=3;CHARSET=UTF8;\") \n",
    "cursor = cn.cursor()"
   ]
  },
  {
   "cell_type": "code",
   "execution_count": 7,
   "metadata": {},
   "outputs": [
    {
     "name": "stdout",
     "output_type": "stream",
     "text": [
      "[('tc_lite', )]\n"
     ]
    }
   ],
   "source": [
    "#cursor.execute(\"create database taichung;\")\n",
    "cursor.execute(\"use taichung;\")\n",
    "cursor.execute(\"show tables;\")\n",
    "print(cursor.fetchall())\n",
    "#cursor.commit()\n",
    "#cn.close()"
   ]
  },
  {
   "cell_type": "code",
   "execution_count": null,
   "metadata": {},
   "outputs": [],
   "source": []
  },
  {
   "cell_type": "markdown",
   "metadata": {},
   "source": [
    "# Data Clearing"
   ]
  },
  {
   "cell_type": "code",
   "execution_count": 33,
   "metadata": {},
   "outputs": [
    {
     "data": {
      "text/html": [
       "<div>\n",
       "<style>\n",
       "    .dataframe thead tr:only-child th {\n",
       "        text-align: right;\n",
       "    }\n",
       "\n",
       "    .dataframe thead th {\n",
       "        text-align: left;\n",
       "    }\n",
       "\n",
       "    .dataframe tbody tr th {\n",
       "        vertical-align: top;\n",
       "    }\n",
       "</style>\n",
       "<table border=\"1\" class=\"dataframe\">\n",
       "  <thead>\n",
       "    <tr style=\"text-align: right;\">\n",
       "      <th></th>\n",
       "      <th>年</th>\n",
       "      <th>月</th>\n",
       "      <th>日</th>\n",
       "      <th>時</th>\n",
       "      <th>分</th>\n",
       "      <th>縣市</th>\n",
       "      <th>區</th>\n",
       "      <th>死</th>\n",
       "      <th>受傷</th>\n",
       "      <th>2_30</th>\n",
       "      <th>...</th>\n",
       "      <th>車輛撞擊部位最初</th>\n",
       "      <th>車輛撞擊部位其他</th>\n",
       "      <th>肇事因素個別</th>\n",
       "      <th>肇事因素主要</th>\n",
       "      <th>肇事逃逸</th>\n",
       "      <th>職業</th>\n",
       "      <th>旅次目的</th>\n",
       "      <th>車種</th>\n",
       "      <th>GPS座標X</th>\n",
       "      <th>GPS座標Y</th>\n",
       "    </tr>\n",
       "  </thead>\n",
       "  <tbody>\n",
       "    <tr>\n",
       "      <th>10129</th>\n",
       "      <td>2017</td>\n",
       "      <td>11</td>\n",
       "      <td>30</td>\n",
       "      <td>23</td>\n",
       "      <td>0</td>\n",
       "      <td>臺中市</td>\n",
       "      <td>豐原區</td>\n",
       "      <td>0</td>\n",
       "      <td>1</td>\n",
       "      <td>0</td>\n",
       "      <td>...</td>\n",
       "      <td>4</td>\n",
       "      <td>NULL</td>\n",
       "      <td>19</td>\n",
       "      <td>19</td>\n",
       "      <td>1</td>\n",
       "      <td>9</td>\n",
       "      <td>8</td>\n",
       "      <td>B12</td>\n",
       "      <td>24.2472</td>\n",
       "      <td>120.73</td>\n",
       "    </tr>\n",
       "    <tr>\n",
       "      <th>10130</th>\n",
       "      <td>2017</td>\n",
       "      <td>11</td>\n",
       "      <td>30</td>\n",
       "      <td>23</td>\n",
       "      <td>28</td>\n",
       "      <td>臺中市</td>\n",
       "      <td>西區</td>\n",
       "      <td>0</td>\n",
       "      <td>1</td>\n",
       "      <td>0</td>\n",
       "      <td>...</td>\n",
       "      <td>14</td>\n",
       "      <td>NULL</td>\n",
       "      <td>23</td>\n",
       "      <td>23</td>\n",
       "      <td>1</td>\n",
       "      <td>21</td>\n",
       "      <td>8</td>\n",
       "      <td>C03</td>\n",
       "      <td>24.1392</td>\n",
       "      <td>120.678</td>\n",
       "    </tr>\n",
       "    <tr>\n",
       "      <th>10131</th>\n",
       "      <td>2017</td>\n",
       "      <td>11</td>\n",
       "      <td>30</td>\n",
       "      <td>23</td>\n",
       "      <td>42</td>\n",
       "      <td>臺中市</td>\n",
       "      <td>南屯區</td>\n",
       "      <td>0</td>\n",
       "      <td>1</td>\n",
       "      <td>0</td>\n",
       "      <td>...</td>\n",
       "      <td>14</td>\n",
       "      <td>NULL</td>\n",
       "      <td>23</td>\n",
       "      <td>23</td>\n",
       "      <td>1</td>\n",
       "      <td>5</td>\n",
       "      <td>8</td>\n",
       "      <td>C03</td>\n",
       "      <td>24.139</td>\n",
       "      <td>120.61</td>\n",
       "    </tr>\n",
       "  </tbody>\n",
       "</table>\n",
       "<p>3 rows × 49 columns</p>\n",
       "</div>"
      ],
      "text/plain": [
       "          年   月   日   時   分   縣市    區  死 受傷 2_30   ...    車輛撞擊部位最初 車輛撞擊部位其他  \\\n",
       "10129  2017  11  30  23   0  臺中市  豐原區  0  1    0   ...           4     NULL   \n",
       "10130  2017  11  30  23  28  臺中市   西區  0  1    0   ...          14     NULL   \n",
       "10131  2017  11  30  23  42  臺中市  南屯區  0  1    0   ...          14     NULL   \n",
       "\n",
       "      肇事因素個別 肇事因素主要 肇事逃逸  職業 旅次目的   車種   GPS座標X   GPS座標Y  \n",
       "10129     19     19    1   9    8  B12  24.2472   120.73  \n",
       "10130     23     23    1  21    8  C03  24.1392  120.678  \n",
       "10131     23     23    1   5    8  C03   24.139   120.61  \n",
       "\n",
       "[3 rows x 49 columns]"
      ]
     },
     "execution_count": 33,
     "metadata": {},
     "output_type": "execute_result"
    }
   ],
   "source": [
    "df10611 = df_10611.rename(columns={'2-30':'2_30', '當事者區分(類別)':'當事者區分_類別'})  #mysql 無法\n",
    "df10611 = df10611.replace('  ', np.nan)\n",
    "for i in range(len(df10611.columns)):\n",
    "    df10611.iloc[:, i] = pd.to_numeric(df10611.iloc[:, i], errors='ignore')\n",
    "df10611 = df10611.fillna(value='NULL')  # np.nan轉換後才能進資料庫\n",
    "df10611.tail(3)"
   ]
  },
  {
   "cell_type": "code",
   "execution_count": 68,
   "metadata": {},
   "outputs": [
    {
     "data": {
      "text/html": [
       "<div>\n",
       "<style>\n",
       "    .dataframe thead tr:only-child th {\n",
       "        text-align: right;\n",
       "    }\n",
       "\n",
       "    .dataframe thead th {\n",
       "        text-align: left;\n",
       "    }\n",
       "\n",
       "    .dataframe tbody tr th {\n",
       "        vertical-align: top;\n",
       "    }\n",
       "</style>\n",
       "<table border=\"1\" class=\"dataframe\">\n",
       "  <thead>\n",
       "    <tr style=\"text-align: right;\">\n",
       "      <th></th>\n",
       "      <th>年</th>\n",
       "      <th>月</th>\n",
       "      <th>日</th>\n",
       "      <th>時</th>\n",
       "      <th>分</th>\n",
       "      <th>縣市</th>\n",
       "      <th>區</th>\n",
       "      <th>死</th>\n",
       "      <th>受傷</th>\n",
       "      <th>2_30</th>\n",
       "      <th>...</th>\n",
       "      <th>車輛撞擊部位最初</th>\n",
       "      <th>車輛撞擊部位其他</th>\n",
       "      <th>肇事因素個別</th>\n",
       "      <th>肇事因素主要</th>\n",
       "      <th>肇事逃逸</th>\n",
       "      <th>職業</th>\n",
       "      <th>旅次目的</th>\n",
       "      <th>車種</th>\n",
       "      <th>GPS座標X</th>\n",
       "      <th>GPS座標Y</th>\n",
       "    </tr>\n",
       "  </thead>\n",
       "  <tbody>\n",
       "    <tr>\n",
       "      <th>10036</th>\n",
       "      <td>2017</td>\n",
       "      <td>10</td>\n",
       "      <td>31</td>\n",
       "      <td>23</td>\n",
       "      <td>9</td>\n",
       "      <td>臺中市</td>\n",
       "      <td>豐原區</td>\n",
       "      <td>NULL</td>\n",
       "      <td>NULL</td>\n",
       "      <td>NULL</td>\n",
       "      <td>...</td>\n",
       "      <td>NULL</td>\n",
       "      <td>NULL</td>\n",
       "      <td>NULL</td>\n",
       "      <td>NULL</td>\n",
       "      <td>1</td>\n",
       "      <td>NULL</td>\n",
       "      <td>NULL</td>\n",
       "      <td>C03</td>\n",
       "      <td>24.254</td>\n",
       "      <td>120.708</td>\n",
       "    </tr>\n",
       "    <tr>\n",
       "      <th>10037</th>\n",
       "      <td>2017</td>\n",
       "      <td>10</td>\n",
       "      <td>31</td>\n",
       "      <td>23</td>\n",
       "      <td>20</td>\n",
       "      <td>臺中市</td>\n",
       "      <td>北屯區</td>\n",
       "      <td>NULL</td>\n",
       "      <td>NULL</td>\n",
       "      <td>NULL</td>\n",
       "      <td>...</td>\n",
       "      <td>NULL</td>\n",
       "      <td>NULL</td>\n",
       "      <td>NULL</td>\n",
       "      <td>NULL</td>\n",
       "      <td>NULL</td>\n",
       "      <td>NULL</td>\n",
       "      <td>NULL</td>\n",
       "      <td>NULL</td>\n",
       "      <td>NULL</td>\n",
       "      <td>NULL</td>\n",
       "    </tr>\n",
       "    <tr>\n",
       "      <th>10038</th>\n",
       "      <td>2017</td>\n",
       "      <td>10</td>\n",
       "      <td>31</td>\n",
       "      <td>23</td>\n",
       "      <td>25</td>\n",
       "      <td>臺中市</td>\n",
       "      <td>南屯區</td>\n",
       "      <td>0</td>\n",
       "      <td>1</td>\n",
       "      <td>0</td>\n",
       "      <td>...</td>\n",
       "      <td>5</td>\n",
       "      <td>NULL</td>\n",
       "      <td>23</td>\n",
       "      <td>23</td>\n",
       "      <td>1</td>\n",
       "      <td>22</td>\n",
       "      <td>8</td>\n",
       "      <td>B03</td>\n",
       "      <td>24.1452</td>\n",
       "      <td>120.623</td>\n",
       "    </tr>\n",
       "  </tbody>\n",
       "</table>\n",
       "<p>3 rows × 49 columns</p>\n",
       "</div>"
      ],
      "text/plain": [
       "          年   月   日   時   分   縣市    區     死    受傷  2_30   ...    車輛撞擊部位最初  \\\n",
       "10036  2017  10  31  23   9  臺中市  豐原區  NULL  NULL  NULL   ...        NULL   \n",
       "10037  2017  10  31  23  20  臺中市  北屯區  NULL  NULL  NULL   ...        NULL   \n",
       "10038  2017  10  31  23  25  臺中市  南屯區     0     1     0   ...           5   \n",
       "\n",
       "      車輛撞擊部位其他 肇事因素個別 肇事因素主要  肇事逃逸    職業  旅次目的    車種   GPS座標X   GPS座標Y  \n",
       "10036     NULL   NULL   NULL     1  NULL  NULL   C03   24.254  120.708  \n",
       "10037     NULL   NULL   NULL  NULL  NULL  NULL  NULL     NULL     NULL  \n",
       "10038     NULL     23     23     1    22     8   B03  24.1452  120.623  \n",
       "\n",
       "[3 rows x 49 columns]"
      ]
     },
     "execution_count": 68,
     "metadata": {},
     "output_type": "execute_result"
    }
   ],
   "source": [
    "df10610 = df_10610.rename(columns={'2-30':'2_30', '當事者區分(類別)':'當事者區分_類別'})\n",
    "df10610 = df10610.replace('  ', np.nan)\n",
    "for i in range(len(df10610.columns)):\n",
    "    df10610.iloc[:, i] = pd.to_numeric(df10610.iloc[:, i], errors='ignore')\n",
    "df10610 = df10610.fillna(value='NULL')  # np.nan轉換後才能進資料庫\n",
    "df10610.tail(3)"
   ]
  },
  {
   "cell_type": "markdown",
   "metadata": {},
   "source": [
    "# create table df_10611>tc10611, df_10610>tc10610"
   ]
  },
  {
   "cell_type": "code",
   "execution_count": 34,
   "metadata": {},
   "outputs": [
    {
     "data": {
      "text/plain": [
       "'create table tc_10611(\\n年 int NULL, \\n月 int NULL, \\n日 int NULL, \\n時 int NULL, \\n分 int NULL, \\n縣市 varchar(20) NULL, \\n區 varchar(20) NULL, \\n死 varchar(20) NULL, \\n受傷 varchar(20) NULL, \\n2_30 varchar(20) NULL, \\n天候 varchar(20) NULL, \\n光線 varchar(20) NULL, \\n道路類別 varchar(20) NULL, \\n速限 varchar(20) NULL, \\n道路型態 varchar(20) NULL, \\n事故位置 varchar(20) NULL, \\n路面鋪裝 varchar(20) NULL, \\n路面狀態 varchar(20) NULL, \\n路面缺陷 varchar(20) NULL, \\n障礙物 varchar(20) NULL, \\n視距 varchar(20) NULL, \\n號誌種類 varchar(20) NULL, \\n號誌動作 varchar(20) NULL, \\n分向設施 varchar(20) NULL, \\n快車道或一般車道間 varchar(20) NULL, \\n快慢車道間 varchar(20) NULL, \\n路面邊線 varchar(20) NULL, \\n事故類型及型態 varchar(20) NULL, \\n主要肇因 varchar(20) NULL, \\n受傷程度 varchar(20) NULL, \\n主要傷處 varchar(20) NULL, \\n保護裝備 varchar(20) NULL, \\n行動電話 varchar(20) NULL, \\n當事者區分_類別 varchar(20) NULL, \\n車輛用途 varchar(20) NULL, \\n當事者行動狀態 varchar(20) NULL, \\n駕駛資格情形 varchar(20) NULL, \\n駕駛執照種類 varchar(20) NULL, \\n飲酒情形 varchar(20) NULL, \\n車輛撞擊部位最初 varchar(20) NULL, \\n車輛撞擊部位其他 varchar(20) NULL, \\n肇事因素個別 varchar(20) NULL, \\n肇事因素主要 varchar(20) NULL, \\n肇事逃逸 varchar(20) NULL, \\n職業 varchar(20) NULL, \\n旅次目的 varchar(20) NULL, \\n車種 varchar(20) NULL, \\nGPS座標X varchar(20) NULL, \\nGPS座標Y varchar(20) NULL);'"
      ]
     },
     "execution_count": 34,
     "metadata": {},
     "output_type": "execute_result"
    }
   ],
   "source": [
    "create_table(df10611, \"tc_10611\")"
   ]
  },
  {
   "cell_type": "code",
   "execution_count": 11,
   "metadata": {},
   "outputs": [
    {
     "data": {
      "text/plain": [
       "[('tc_10610', ), ('tc_10611', ), ('tc_lite', )]"
      ]
     },
     "execution_count": 11,
     "metadata": {},
     "output_type": "execute_result"
    }
   ],
   "source": [
    "cursor.execute(create_table(df10611, \"tc_10611\"))\n",
    "cursor.execute(create_table(df10610, \"tc_10610\"))\n",
    "cursor.execute(\"show tables;\")\n",
    "cursor.fetchall()"
   ]
  },
  {
   "cell_type": "markdown",
   "metadata": {},
   "source": [
    "# insert values"
   ]
  },
  {
   "cell_type": "code",
   "execution_count": 49,
   "metadata": {},
   "outputs": [
    {
     "name": "stdout",
     "output_type": "stream",
     "text": [
      "insert 10132筆資料用時: 18.523254162308262 seconds\n"
     ]
    }
   ],
   "source": [
    "###### execute for loop####### df10611\n",
    "tS = time.clock()\n",
    "for i in df10611.index:\n",
    "    cursor.execute(\"insert into tc_10611 values({})\".format(str(df10611.loc[i].values.tolist())[1:-1]))\n",
    "#cn.commit()\n",
    "tE = time.clock()\n",
    "print(\"insert %s筆資料用時:\"%df10611.shape[0], tE-tS, \"seconds\")"
   ]
  },
  {
   "cell_type": "code",
   "execution_count": 65,
   "metadata": {},
   "outputs": [
    {
     "data": {
      "text/plain": [
       "[(2017, 11, 1, 0, 7, '臺中市', '霧峰區', '0.0', '0.0', '0.0', '8.0', '3.0', '5.0', '40', '14.0', '2.0', '1.0', '5.0', '4.0', '5.0', '7.0', '4.0', '4.0', '1.0', '4.0', '4.0', '1.0', '26.0', '21.0', '3.0', '10.0', '1.0', '1.0', 'B03', '7.0', '9.0', '1.0', '8.0', '7.0', '8.0', 'NULL', '21.0', '21.0', '1.0', '4.0', '8.0', 'B03', '24.073801', '120.663218'),\n",
       " (2017, 11, 1, 0, 17, '臺中市', '潭子區', 'NULL', 'NULL', 'NULL', '8.0', 'NULL', 'NULL', '60', 'NULL', 'NULL', 'NULL', 'NULL', 'NULL', 'NULL', 'NULL', 'NULL', 'NULL', 'NULL', 'NULL', 'NULL', 'NULL', 'NULL', 'NULL', 'NULL', 'NULL', 'NULL', 'NULL', 'B03', 'NULL', 'NULL', '1.0', 'NULL', '1.0', 'NULL', 'NULL', '13.0', 'NULL', '1.0', '22.0', 'NULL', 'B03', '24.201317', '120.70316299999999'),\n",
       " (2017, 11, 1, 1, 0, '臺中市', '潭子區', '0.0', '1.0', '0.0', '8.0', '3.0', '5.0', '50', '4.0', '1.0', '1.0', '5.0', '4.0', '5.0', '7.0', '3.0', '1.0', '10.0', '5.0', '5.0', '2.0', '15.0', '6.0', '2.0', '9.0', '1.0', '1.0', 'C03', '7.0', '9.0', '1.0', '10.0', '2.0', '11.0', 'NULL', '6.0', '6.0', '1.0', '22.0', '8.0', 'C03', '24.19456', '120.701118')]"
      ]
     },
     "execution_count": 65,
     "metadata": {},
     "output_type": "execute_result"
    }
   ],
   "source": [
    "cursor.execute(\"select * from tc_10611 limit 3\")\n",
    "cursor.fetchall()"
   ]
  },
  {
   "cell_type": "code",
   "execution_count": 73,
   "metadata": {},
   "outputs": [
    {
     "name": "stdout",
     "output_type": "stream",
     "text": [
      "insert 10039筆資料用時: 17.7935123165571 seconds\n"
     ]
    }
   ],
   "source": [
    "###### execute for loop####### df10610\n",
    "tS = time.clock()\n",
    "for i in df10610.index:\n",
    "    cursor.execute(\"insert into tc_10610 values({})\".format(str(df10610.loc[i].values.tolist())[1:-1]))\n",
    "    #cn.commit()\n",
    "tE = time.clock()\n",
    "print(\"insert %s筆資料用時:\"%df10610.shape[0], tE-tS, \"seconds\")"
   ]
  },
  {
   "cell_type": "code",
   "execution_count": null,
   "metadata": {},
   "outputs": [],
   "source": []
  },
  {
   "cell_type": "markdown",
   "metadata": {},
   "source": [
    "###### executemany #######\n",
    "tS = time.clock()\n",
    "cursor.executemany(sql_insert(df10610, \"tc_10610\"), df10610.values.tolist())\n",
    "tE = time.clock()\n",
    "print(\"insert %s筆資料用時:\"%df10610.shape[0], end-start, \"seconds\")"
   ]
  },
  {
   "cell_type": "code",
   "execution_count": null,
   "metadata": {},
   "outputs": [],
   "source": []
  },
  {
   "cell_type": "markdown",
   "metadata": {},
   "source": [
    "# select columns form table to python dataframe"
   ]
  },
  {
   "cell_type": "code",
   "execution_count": 78,
   "metadata": {},
   "outputs": [
    {
     "name": "stdout",
     "output_type": "stream",
     "text": [
      "<class 'pandas.core.frame.DataFrame'>\n",
      "RangeIndex: 10132 entries, 0 to 10131\n",
      "Data columns (total 9 columns):\n",
      "年         10132 non-null int64\n",
      "月         10132 non-null int64\n",
      "日         10132 non-null int64\n",
      "時         10132 non-null int64\n",
      "分         10132 non-null int64\n",
      "縣市        10132 non-null object\n",
      "區         10132 non-null object\n",
      "GPS座標X    10132 non-null object\n",
      "GPS座標Y    10132 non-null object\n",
      "dtypes: int64(5), object(4)\n",
      "memory usage: 712.5+ KB\n",
      "None\n"
     ]
    },
    {
     "data": {
      "text/html": [
       "<div>\n",
       "<style>\n",
       "    .dataframe thead tr:only-child th {\n",
       "        text-align: right;\n",
       "    }\n",
       "\n",
       "    .dataframe thead th {\n",
       "        text-align: left;\n",
       "    }\n",
       "\n",
       "    .dataframe tbody tr th {\n",
       "        vertical-align: top;\n",
       "    }\n",
       "</style>\n",
       "<table border=\"1\" class=\"dataframe\">\n",
       "  <thead>\n",
       "    <tr style=\"text-align: right;\">\n",
       "      <th></th>\n",
       "      <th>年</th>\n",
       "      <th>月</th>\n",
       "      <th>日</th>\n",
       "      <th>時</th>\n",
       "      <th>分</th>\n",
       "      <th>縣市</th>\n",
       "      <th>區</th>\n",
       "      <th>GPS座標X</th>\n",
       "      <th>GPS座標Y</th>\n",
       "    </tr>\n",
       "  </thead>\n",
       "  <tbody>\n",
       "    <tr>\n",
       "      <th>0</th>\n",
       "      <td>2017</td>\n",
       "      <td>11</td>\n",
       "      <td>1</td>\n",
       "      <td>0</td>\n",
       "      <td>7</td>\n",
       "      <td>臺中市</td>\n",
       "      <td>霧峰區</td>\n",
       "      <td>24.073801</td>\n",
       "      <td>120.663218</td>\n",
       "    </tr>\n",
       "    <tr>\n",
       "      <th>1</th>\n",
       "      <td>2017</td>\n",
       "      <td>11</td>\n",
       "      <td>1</td>\n",
       "      <td>0</td>\n",
       "      <td>17</td>\n",
       "      <td>臺中市</td>\n",
       "      <td>潭子區</td>\n",
       "      <td>24.201317</td>\n",
       "      <td>120.70316299999999</td>\n",
       "    </tr>\n",
       "    <tr>\n",
       "      <th>2</th>\n",
       "      <td>2017</td>\n",
       "      <td>11</td>\n",
       "      <td>1</td>\n",
       "      <td>1</td>\n",
       "      <td>0</td>\n",
       "      <td>臺中市</td>\n",
       "      <td>潭子區</td>\n",
       "      <td>24.19456</td>\n",
       "      <td>120.701118</td>\n",
       "    </tr>\n",
       "  </tbody>\n",
       "</table>\n",
       "</div>"
      ],
      "text/plain": [
       "      年   月  日  時   分   縣市    區     GPS座標X              GPS座標Y\n",
       "0  2017  11  1  0   7  臺中市  霧峰區  24.073801          120.663218\n",
       "1  2017  11  1  0  17  臺中市  潭子區  24.201317  120.70316299999999\n",
       "2  2017  11  1  1   0  臺中市  潭子區   24.19456          120.701118"
      ]
     },
     "execution_count": 78,
     "metadata": {},
     "output_type": "execute_result"
    }
   ],
   "source": [
    "#df10611f = pd.read_sql(\"select 年, 月, 日, 時, 分, 縣市, 區, GPS座標X, GPS座標Y from tc_10611;\", con = cn)\n",
    "print(df10611f.info())\n",
    "df10611f.head(3)"
   ]
  },
  {
   "cell_type": "code",
   "execution_count": 80,
   "metadata": {},
   "outputs": [
    {
     "name": "stdout",
     "output_type": "stream",
     "text": [
      "<class 'pandas.core.frame.DataFrame'>\n",
      "RangeIndex: 10040 entries, 0 to 10039\n",
      "Data columns (total 9 columns):\n",
      "年         10040 non-null int64\n",
      "月         10040 non-null int64\n",
      "日         10040 non-null int64\n",
      "時         10040 non-null int64\n",
      "分         10040 non-null int64\n",
      "縣市        10040 non-null object\n",
      "區         10040 non-null object\n",
      "GPS座標X    10040 non-null object\n",
      "GPS座標Y    10040 non-null object\n",
      "dtypes: int64(5), object(4)\n",
      "memory usage: 706.0+ KB\n",
      "None\n"
     ]
    },
    {
     "data": {
      "text/html": [
       "<div>\n",
       "<style>\n",
       "    .dataframe thead tr:only-child th {\n",
       "        text-align: right;\n",
       "    }\n",
       "\n",
       "    .dataframe thead th {\n",
       "        text-align: left;\n",
       "    }\n",
       "\n",
       "    .dataframe tbody tr th {\n",
       "        vertical-align: top;\n",
       "    }\n",
       "</style>\n",
       "<table border=\"1\" class=\"dataframe\">\n",
       "  <thead>\n",
       "    <tr style=\"text-align: right;\">\n",
       "      <th></th>\n",
       "      <th>年</th>\n",
       "      <th>月</th>\n",
       "      <th>日</th>\n",
       "      <th>時</th>\n",
       "      <th>分</th>\n",
       "      <th>縣市</th>\n",
       "      <th>區</th>\n",
       "      <th>GPS座標X</th>\n",
       "      <th>GPS座標Y</th>\n",
       "    </tr>\n",
       "  </thead>\n",
       "  <tbody>\n",
       "    <tr>\n",
       "      <th>0</th>\n",
       "      <td>2017</td>\n",
       "      <td>10</td>\n",
       "      <td>1</td>\n",
       "      <td>0</td>\n",
       "      <td>1</td>\n",
       "      <td>臺中市</td>\n",
       "      <td>南屯區</td>\n",
       "      <td>24.132123999999997</td>\n",
       "      <td>120.64829099999999</td>\n",
       "    </tr>\n",
       "    <tr>\n",
       "      <th>1</th>\n",
       "      <td>2017</td>\n",
       "      <td>10</td>\n",
       "      <td>1</td>\n",
       "      <td>0</td>\n",
       "      <td>1</td>\n",
       "      <td>臺中市</td>\n",
       "      <td>南屯區</td>\n",
       "      <td>24.132123999999997</td>\n",
       "      <td>120.64829099999999</td>\n",
       "    </tr>\n",
       "    <tr>\n",
       "      <th>2</th>\n",
       "      <td>2017</td>\n",
       "      <td>10</td>\n",
       "      <td>1</td>\n",
       "      <td>0</td>\n",
       "      <td>5</td>\n",
       "      <td>臺中市</td>\n",
       "      <td>南屯區</td>\n",
       "      <td>24.135295000000003</td>\n",
       "      <td>120.638802</td>\n",
       "    </tr>\n",
       "  </tbody>\n",
       "</table>\n",
       "</div>"
      ],
      "text/plain": [
       "      年   月  日  時  分   縣市    區              GPS座標X              GPS座標Y\n",
       "0  2017  10  1  0  1  臺中市  南屯區  24.132123999999997  120.64829099999999\n",
       "1  2017  10  1  0  1  臺中市  南屯區  24.132123999999997  120.64829099999999\n",
       "2  2017  10  1  0  5  臺中市  南屯區  24.135295000000003          120.638802"
      ]
     },
     "execution_count": 80,
     "metadata": {},
     "output_type": "execute_result"
    }
   ],
   "source": [
    "df10610f = pd.read_sql(\"select 年, 月, 日, 時, 分, 縣市, 區, GPS座標X, GPS座標Y from tc_10610;\", con = cn)\n",
    "print(df10610f.info())\n",
    "df10610f.head(3)"
   ]
  },
  {
   "cell_type": "code",
   "execution_count": 81,
   "metadata": {},
   "outputs": [],
   "source": [
    "df = pd.concat([df10610f, df10611f])"
   ]
  },
  {
   "cell_type": "markdown",
   "metadata": {},
   "source": [
    "# Data Clearing  #select from MySQL"
   ]
  },
  {
   "cell_type": "code",
   "execution_count": 82,
   "metadata": {},
   "outputs": [],
   "source": [
    "# return \"NULL\" to nan\n",
    "df = df.replace('NULL', np.nan)\n",
    "#set colums to muneric if not str\n",
    "for i in range(len(df.columns)):\n",
    "    df.iloc[:, i] = pd.to_numeric(df.iloc[:, i], errors='ignore')\n",
    "df.loc[:,'count'] = 1\n",
    "df_month = pd.get_dummies(df['月'])\n",
    "df = df.join(df_month)\n",
    "df = df.rename(columns={10:'10月', 11:'11月'})"
   ]
  },
  {
   "cell_type": "code",
   "execution_count": 83,
   "metadata": {},
   "outputs": [
    {
     "name": "stdout",
     "output_type": "stream",
     "text": [
      "<class 'pandas.core.frame.DataFrame'>\n",
      "Int64Index: 40252 entries, 0 to 10131\n",
      "Data columns (total 12 columns):\n",
      "年         40252 non-null int64\n",
      "月         40252 non-null int64\n",
      "日         40252 non-null int64\n",
      "時         40252 non-null int64\n",
      "分         40252 non-null int64\n",
      "縣市        40252 non-null object\n",
      "區         40252 non-null object\n",
      "GPS座標X    38185 non-null float64\n",
      "GPS座標Y    38185 non-null float64\n",
      "count     40252 non-null int64\n",
      "10月       40252 non-null uint8\n",
      "11月       40252 non-null uint8\n",
      "dtypes: float64(2), int64(6), object(2), uint8(2)\n",
      "memory usage: 3.5+ MB\n"
     ]
    }
   ],
   "source": [
    "df.info()"
   ]
  },
  {
   "cell_type": "markdown",
   "metadata": {},
   "source": [
    "# create charts"
   ]
  },
  {
   "cell_type": "code",
   "execution_count": 88,
   "metadata": {},
   "outputs": [
    {
     "data": {
      "text/plain": [
       "(array([ 0,  1,  2,  3,  4,  5,  6,  7,  8,  9, 10, 11, 12, 13, 14, 15, 16,\n",
       "        17, 18, 19, 20, 21, 22, 23, 24, 25, 26, 27, 28]),\n",
       " <a list of 29 Text xticklabel objects>)"
      ]
     },
     "execution_count": 88,
     "metadata": {},
     "output_type": "execute_result"
    },
    {
     "data": {
      "image/png": "[encoded data removed]",
      "text/plain": [
       "<matplotlib.figure.Figure at 0x11bdf2e8>"
      ]
     },
     "metadata": {},
     "output_type": "display_data"
    }
   ],
   "source": [
    "# 10月&11月交通事故數量比較\n",
    "c = df.groupby(['區'])['10月','11月'].sum()\n",
    "c.plot(kind = 'bar', figsize=(14,9), align='center', fontsize=12)\n",
    "plt.title(\"台中市各區 10,11月份 交通事故數\", fontsize=16)\n",
    "plt.xlabel(\"\")\n",
    "plt.legend(fontsize = 15)\n",
    "plt.xticks(rotation=30)"
   ]
  },
  {
   "cell_type": "code",
   "execution_count": 89,
   "metadata": {},
   "outputs": [
    {
     "data": {
      "text/plain": [
       "<matplotlib.text.Text at 0xfa17a58>"
      ]
     },
     "execution_count": 89,
     "metadata": {},
     "output_type": "execute_result"
    },
    {
     "data": {
      "image/png": "[encoded data removed]",
      "text/plain": [
       "<matplotlib.figure.Figure at 0xf5ddb38>"
      ]
     },
     "metadata": {},
     "output_type": "display_data"
    }
   ],
   "source": [
    "# 10,11月份 每日交通事故比較\n",
    "df10 = df[df['月']==10].groupby(['日'])['count'].sum()\n",
    "df11 = df[df['月']==11].groupby(['日'])['count'].sum()\n",
    "df10.plot(kind = 'line', figsize=(12,8), label='10月', legend=True)\n",
    "df11.plot(kind = 'line', label='11月', legend=True)\n",
    "plt.legend(fontsize = 12)\n",
    "plt.title(\"台中市每日交通事故數\", fontsize = 16)"
   ]
  },
  {
   "cell_type": "code",
   "execution_count": 90,
   "metadata": {},
   "outputs": [
    {
     "data": {
      "text/plain": [
       "<matplotlib.axes._subplots.AxesSubplot at 0xcced780>"
      ]
     },
     "execution_count": 90,
     "metadata": {},
     "output_type": "execute_result"
    },
    {
     "data": {
      "image/png": "[encoded data removed]",
      "text/plain": [
       "<matplotlib.figure.Figure at 0xf9ca3c8>"
      ]
     },
     "metadata": {},
     "output_type": "display_data"
    }
   ],
   "source": [
    "df_pie = df[df['月']==10].groupby(['區'])['count'].sum()\n",
    "df_pie = df_pie.sort_values()\n",
    "explode = (0.6, 0.5, 0.4, 0.3, 0.2, 0, 0, 0, 0, 0, 0, 0, 0, 0, 0, 0, 0, 0, 0, 0, 0, 0, 0, 0, 0, 0, 0, 0, 0)\n",
    "df_pie.plot(kind = 'pie', explode = explode, figsize=(10, 10), autopct='%1.1f%%', pctdistance=0.8, labeldistance=1.1)"
   ]
  },
  {
   "cell_type": "code",
   "execution_count": null,
   "metadata": {},
   "outputs": [],
   "source": []
  },
  {
   "cell_type": "markdown",
   "metadata": {},
   "source": [
    "# ==========================================="
   ]
  },
  {
   "cell_type": "markdown",
   "metadata": {},
   "source": [
    "## =========== create table 進化史 ==========="
   ]
  },
  {
   "cell_type": "code",
   "execution_count": null,
   "metadata": {},
   "outputs": [],
   "source": [
    "######## def create table ######## \n",
    "## df:dataframe, tablename:you want set tablename should be str\n",
    "def create_table(df, tablename):\n",
    "    q_create = 'create table ' + tablename + '('\n",
    "    for i, j in zip(df.columns, df.dtypes):\n",
    "        if j.name.find(\"int\")==0:\n",
    "            q_create = (q_create + '\\n{} int NULL, ').format(i)\n",
    "        elif j.name.find(\"float\")==0:\n",
    "            q_create = (q_create + '\\n{} float NULL, ').format(i)\n",
    "        else:\n",
    "            q_create = (q_create + '\\n{} varchar(20) NULL, ').format(i)\n",
    "            \n",
    "    q_create = q_create[:-2] + ');'   ##去掉最後的 逗點\n",
    "    return(q_create)"
   ]
  },
  {
   "cell_type": "code",
   "execution_count": 534,
   "metadata": {},
   "outputs": [
    {
     "name": "stdout",
     "output_type": "stream",
     "text": [
      "create table tc_lite(\n",
      "年 int NULL,\n",
      "月 int NULL,\n",
      "日 int NULL,\n",
      "時 int NULL,\n",
      "分 int NULL,\n",
      "縣市 varchar(20) NULL,\n",
      "區 varchar(20) NULL,\n",
      "GPS座標X float NULL,\n",
      "GPS座標Y float NULL);\n"
     ]
    }
   ],
   "source": [
    "######### create table 3版 #########看第一列決定type\n",
    "q_tc = 'create table tc_lite('\n",
    "\n",
    "for k in range(1):\n",
    "    for i, j in zip(dff.columns, dff.dtypes):\n",
    "        if type(dff.loc[0][i]) == str:\n",
    "            q_tc = (q_tc + '\\n{} varchar(20) NULL,').format(i)\n",
    "        elif type(dff.loc[0][i]) == float:\n",
    "            q_tc = (q_tc + '\\n{} float NULL,').format(i)\n",
    "        else:\n",
    "            q_tc = (q_tc + '\\n{} int NULL,').format(i)\n",
    "            \n",
    "q_tc = q_tc[:-1] + ');'   ##去掉最後的 逗點\n",
    "print(q_tc)"
   ]
  },
  {
   "cell_type": "code",
   "execution_count": null,
   "metadata": {},
   "outputs": [],
   "source": [
    "######### create table 1版 #########\n",
    "query = 'create table newtable('\n",
    "\n",
    "for k in range(1):\n",
    "    for i, j in zip(df1.columns, df1.dtypes):\n",
    "        if j.name.find(\"int\")==0:\n",
    "            query = (query + '\\n{} int NULL,').format(i)\n",
    "        elif j.name.find(\"float\")==0:\n",
    "            query = (query + '\\n{} float NULL,').format(i)\n",
    "        else:\n",
    "            query = (query + '\\n{} varchar(20) NULL,').format(i)\n",
    "            \n",
    "query = query[:-1] + ');'   ##去掉最後的 逗點\n",
    "print(query)"
   ]
  },
  {
   "cell_type": "markdown",
   "metadata": {},
   "source": [
    "## =========== insert into table 進化史 ==========="
   ]
  },
  {
   "cell_type": "markdown",
   "metadata": {},
   "source": [
    "### cursor.execute() with for loop"
   ]
  },
  {
   "cell_type": "code",
   "execution_count": null,
   "metadata": {},
   "outputs": [],
   "source": [
    "######### insert 4版 #########\n",
    "for i in df.index:\n",
    "    cursor.execute(\"insert into tc_lite values({})\".format(str(list(df.loc[i]))[1:-1]))\n",
    "cursor.execute(\"select * from tc_lite;\")\n",
    "cursor.fetchall()"
   ]
  },
  {
   "cell_type": "code",
   "execution_count": 105,
   "metadata": {
    "collapsed": true
   },
   "outputs": [],
   "source": [
    "######### insert 3版 #########\n",
    "for i in df.index:\n",
    "    cursor.execute(\"insert into tc_lite values({}, {}, {}, {}, {}, '{}', '{}', {}, {});\" \\\n",
    "          .format(df.loc[i][0], df.loc[i][1], df.loc[i][2], df.loc[i][3], df.loc[i][4], df.loc[i][5], df.loc[i][6]\\\n",
    "                 , df.loc[i][7], df.loc[i][8]))\n",
    "cursor.commit()"
   ]
  },
  {
   "cell_type": "code",
   "execution_count": null,
   "metadata": {},
   "outputs": [],
   "source": [
    "######### insert 2版 #########\n",
    "i = 0\n",
    "for i in df.index:\n",
    "    cursor.execute(\"insert into qtable values({}, {});\" .format(df.loc[i]['年'], df.loc[i]['月']))\n",
    "    i +=1"
   ]
  },
  {
   "cell_type": "code",
   "execution_count": null,
   "metadata": {},
   "outputs": [],
   "source": [
    "######### insert 1版 #########\n",
    "i = 0\n",
    "for i in df.index:\n",
    "    cursor.execute(\"insert into new values(%d, %d);\" %(df['年'][i:i+1], df['月'][i:i+1]))\n",
    "    i +=1"
   ]
  },
  {
   "cell_type": "markdown",
   "metadata": {},
   "source": [
    "### cursor.executemany(sql, df.values.tolist()))"
   ]
  },
  {
   "cell_type": "code",
   "execution_count": null,
   "metadata": {},
   "outputs": [],
   "source": [
    "######## def insert into table values() ########  cursor.executemany\n",
    "## cursor.executemany(sql, df.values.tolist())\n",
    "def sql_insert(df, tablename):\n",
    "    sql_head = \"insert into \" + tablename + \" values(\"\n",
    "    sql_values = df.shape[1] * \"%s, \"\n",
    "    sql_insert = sql_head + sql_values[:-2] + \")\"\n",
    "    return (str(sql_insert))"
   ]
  },
  {
   "cell_type": "code",
   "execution_count": null,
   "metadata": {},
   "outputs": [],
   "source": [
    "## executemany 一版  insert into語法\n",
    "sqli = \"insert into exmany values(\"\n",
    "sqlv = manydf.shape[1]*'?, ' \n",
    "sql_create = sqli + sqlv[:-2]+\")\"\n",
    "sql_create"
   ]
  },
  {
   "cell_type": "code",
   "execution_count": null,
   "metadata": {},
   "outputs": [],
   "source": []
  },
  {
   "cell_type": "markdown",
   "metadata": {},
   "source": [
    "# ======== 測試區 ========"
   ]
  },
  {
   "cell_type": "code",
   "execution_count": null,
   "metadata": {},
   "outputs": [],
   "source": []
  }
 ],
 "metadata": {
  "kernelspec": {
   "display_name": "Python 3",
   "language": "python",
   "name": "python3"
  },
  "language_info": {
   "codemirror_mode": {
    "name": "ipython",
    "version": 3
   },
   "file_extension": ".py",
   "mimetype": "text/x-python",
   "name": "python",
   "nbconvert_exporter": "python",
   "pygments_lexer": "ipython3",
   "version": "3.6.1"
  }
 },
 "nbformat": 4,
 "nbformat_minor": 2
}
